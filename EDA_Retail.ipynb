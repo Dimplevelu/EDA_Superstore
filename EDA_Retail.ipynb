{
  "nbformat": 4,
  "nbformat_minor": 0,
  "metadata": {
    "colab": {
      "name": "EDA_Retail.ipynb",
      "private_outputs": true,
      "provenance": []
    },
    "kernelspec": {
      "name": "python3",
      "display_name": "Python 3"
    }
  },
  "cells": [
    {
      "cell_type": "markdown",
      "metadata": {
        "id": "ay30thnjUFjD"
      },
      "source": [
        "#Exploratory Data Analysis - Retail\r\n",
        "\r\n",
        "\r\n",
        "Objectives:-\r\n",
        "1) To Perform Exploratory Data Analysis\r\n",
        "2) Find out business problems\r\n",
        "3) identify key areas for improving profits."
      ]
    },
    {
      "cell_type": "code",
      "metadata": {
        "id": "-xVdzMMaOg1U"
      },
      "source": [
        "import numpy as np\r\n",
        "import pandas as pd\r\n",
        "import matplotlib.pyplot as plt\r\n",
        "import seaborn as sns\r\n",
        "from sklearn.cluster import KMeans\r\n",
        "from sklearn.preprocessing import Normalizer\r\n",
        "from sklearn.pipeline import make_pipeline"
      ],
      "execution_count": null,
      "outputs": []
    },
    {
      "cell_type": "markdown",
      "metadata": {
        "id": "eUZXgUlMOtkj"
      },
      "source": [
        "Importing Dataset"
      ]
    },
    {
      "cell_type": "code",
      "metadata": {
        "id": "S2vl_65APWBZ"
      },
      "source": [
        "from google.colab import files\r\n",
        "uploaded=files.upload()"
      ],
      "execution_count": null,
      "outputs": []
    },
    {
      "cell_type": "code",
      "metadata": {
        "id": "trXP5QPGOqXj"
      },
      "source": [
        "df = pd.read_csv(\"SampleSuperstore.csv\")"
      ],
      "execution_count": null,
      "outputs": []
    },
    {
      "cell_type": "code",
      "metadata": {
        "id": "8Gz1pB06Oqa0"
      },
      "source": [
        "df.head()"
      ],
      "execution_count": null,
      "outputs": []
    },
    {
      "cell_type": "code",
      "metadata": {
        "id": "F5UPK5t_OqhL"
      },
      "source": [
        "df.info()"
      ],
      "execution_count": null,
      "outputs": []
    },
    {
      "cell_type": "code",
      "metadata": {
        "id": "-3Masr1-Oqk0"
      },
      "source": [
        "df.describe()"
      ],
      "execution_count": null,
      "outputs": []
    },
    {
      "cell_type": "code",
      "metadata": {
        "id": "-561aHGrOqrR"
      },
      "source": [
        "#Correlation Between Variables.\r\n",
        "df.corr()"
      ],
      "execution_count": null,
      "outputs": []
    },
    {
      "cell_type": "markdown",
      "metadata": {
        "id": "Kn5GAp33PI8B"
      },
      "source": [
        "check missing values"
      ]
    },
    {
      "cell_type": "code",
      "metadata": {
        "id": "ns0hSrpxOquR"
      },
      "source": [
        "#Checking Missing Values\r\n",
        "df.isnull().sum()"
      ],
      "execution_count": null,
      "outputs": []
    },
    {
      "cell_type": "code",
      "metadata": {
        "id": "9qhsqmyjOq0m"
      },
      "source": [
        "Initial_Shape = df.shape\r\n",
        "Initial_Shape"
      ],
      "execution_count": null,
      "outputs": []
    },
    {
      "cell_type": "code",
      "metadata": {
        "id": "aEwriytzOq3y"
      },
      "source": [
        "df.drop_duplicates(keep= 'first',inplace=True)"
      ],
      "execution_count": null,
      "outputs": []
    },
    {
      "cell_type": "code",
      "metadata": {
        "id": "TCwOpauuPWsE"
      },
      "source": [
        "#Final Shape of the dataframe\r\n",
        "Final_Shape = df.shape\r\n",
        "Final_Shape"
      ],
      "execution_count": null,
      "outputs": []
    },
    {
      "cell_type": "markdown",
      "metadata": {
        "id": "DSioMDUpPizc"
      },
      "source": [
        "Here there where no duplicate rows so no difference\r\n",
        "# Exploratory Data Analysis and Visulization\r\n",
        "1 What are total Sales and Profits of the company?"
      ]
    },
    {
      "cell_type": "code",
      "metadata": {
        "id": "p8wqD9NLPiWM"
      },
      "source": [
        "s = df['Sales'].sum()\r\n",
        "p = df['Profit'].sum()\r\n",
        "print(\"Total sales in US is\",s)\r\n",
        "print(\"Total profit in US is\",p)"
      ],
      "execution_count": null,
      "outputs": []
    },
    {
      "cell_type": "code",
      "metadata": {
        "id": "0v-PTKQePWiv"
      },
      "source": [
        "Top_10_Sales = df.groupby(\"State\").Sales.sum().nlargest(n =10)\r\n",
        "Top_10_Profits = df.groupby(\"State\").Profit.sum().nlargest(n =10)"
      ],
      "execution_count": null,
      "outputs": []
    },
    {
      "cell_type": "code",
      "metadata": {
        "id": "8fLKScZpPWel"
      },
      "source": [
        "Top_10_Sales.index"
      ],
      "execution_count": null,
      "outputs": []
    },
    {
      "cell_type": "code",
      "metadata": {
        "id": "iUi8vIJ_PWYH"
      },
      "source": [
        "Top_10_Profits.index"
      ],
      "execution_count": null,
      "outputs": []
    },
    {
      "cell_type": "markdown",
      "metadata": {
        "id": "SNBbwsPoP0bh"
      },
      "source": [
        "#Top ten states by sales are -:\r\n",
        "'California', 'New York', 'Washington', 'Michigan', 'Virginia', 'Indiana', 'Georgia', 'Kentucky', 'Minnesota', 'Delaware'\r\n",
        "#Top ten states by Profit are -:\r\n",
        "'California', 'New York', 'Washington', 'Michigan', 'Virginia', 'Indiana', 'Georgia', 'Kentucky', 'Minnesota', 'Delaware'¶"
      ]
    },
    {
      "cell_type": "code",
      "metadata": {
        "id": "A7XYnhJPPxPC"
      },
      "source": [
        "plt.style.use('seaborn')\r\n",
        "Top_10_Sales.plot(kind ='bar', figsize =(14,8), fontsize =14)\r\n",
        "plt.xlabel(\"States\", fontsize =13)\r\n",
        "plt.ylabel(\"Total Sales\",fontsize =13)\r\n",
        "plt.title(\"Top 10 States by Sales\",fontsize =16)\r\n",
        "plt.show()"
      ],
      "execution_count": null,
      "outputs": []
    },
    {
      "cell_type": "code",
      "metadata": {
        "id": "mgzdDoDGPxLn"
      },
      "source": [
        "plt.style.use('seaborn')\r\n",
        "Top_10_Profits.plot(kind ='bar', figsize =(14,8), fontsize =14)\r\n",
        "plt.xlabel(\"States\", fontsize =13)\r\n",
        "plt.ylabel(\"Total Profits\",fontsize =13)\r\n",
        "plt.title(\"Top 10 States by Profits\",fontsize =16)\r\n",
        "plt.show()"
      ],
      "execution_count": null,
      "outputs": []
    },
    {
      "cell_type": "code",
      "metadata": {
        "id": "Dyz7lTdsPxIx"
      },
      "source": [
        "plt.style.use('seaborn')\r\n",
        "df.plot(kind = \"scatter\", figsize = (15,8), x = \"Sales\", y =\"Profit\" ,c =\"Discount\", s =20, marker =\"x\",colormap =\"viridis\")\r\n",
        "\r\n",
        "# here c should contain the col name with which we want our scale to be made of\r\n",
        "\r\n",
        "plt.ylabel(\"Total Profits\",fontsize =13)\r\n",
        "plt.title(\"Interdependence of Sales, Profit, and Discount\",fontsize =16)\r\n",
        "plt.show()"
      ],
      "execution_count": null,
      "outputs": []
    },
    {
      "cell_type": "markdown",
      "metadata": {
        "id": "5ntALjlEQG04"
      },
      "source": [
        "Lets make a pair plot to do Relational analysis"
      ]
    },
    {
      "cell_type": "code",
      "metadata": {
        "id": "YhsCQLeXQEFM"
      },
      "source": [
        "financial=df.loc[:,['Sales','Quantity','Discount','Profit']]\r\n",
        "sns.pairplot(financial)"
      ],
      "execution_count": null,
      "outputs": []
    },
    {
      "cell_type": "markdown",
      "metadata": {
        "id": "WPpNq-SGQMIB"
      },
      "source": [
        "In above we see that there is some relation between sales and profit and also there is some relation between Discount and Profit. Now To see what exact relation between those entities we plot the heat_map. so we get more clearity"
      ]
    },
    {
      "cell_type": "code",
      "metadata": {
        "id": "lIHaNAO2QEKR"
      },
      "source": [
        "correlation=financial.corr()\r\n",
        "sns.heatmap(correlation,xticklabels=correlation.columns,yticklabels=correlation.columns,annot=True)"
      ],
      "execution_count": null,
      "outputs": []
    },
    {
      "cell_type": "markdown",
      "metadata": {
        "id": "rMDPs-KIQRqb"
      },
      "source": [
        "We can also see the correlation by -:"
      ]
    },
    {
      "cell_type": "code",
      "metadata": {
        "id": "Evrmac3VQERk"
      },
      "source": [
        "df.corr()"
      ],
      "execution_count": null,
      "outputs": []
    },
    {
      "cell_type": "markdown",
      "metadata": {
        "id": "VwTGXbGnQWYz"
      },
      "source": [
        "##From the above analysis we see that\r\n",
        "##From Above map we can infer that -:\r\n",
        "1)sales and profits are positively correlated\r\n",
        "2)Discount and Profits are Negatively correlated\r\n",
        "Hence we consider these cases and proceed further"
      ]
    },
    {
      "cell_type": "code",
      "metadata": {
        "id": "CKDYAXB-PxFE"
      },
      "source": [
        "data=df[df['Discount']==0]\r\n",
        "sns.relplot(x='Sales',y='Profit',data=data)"
      ],
      "execution_count": null,
      "outputs": []
    },
    {
      "cell_type": "markdown",
      "metadata": {
        "id": "Azn97lvSQkdD"
      },
      "source": [
        "Hence we say that inspite having 0 discount there is a positive relation between Profit and sales. Now we plot heat_map to get correlaton"
      ]
    },
    {
      "cell_type": "code",
      "metadata": {
        "id": "13dw__K3PxA9"
      },
      "source": [
        "correlation=data.corr()\r\n",
        "sns.heatmap(correlation,xticklabels=correlation.columns,yticklabels=correlation.columns,annot=True)"
      ],
      "execution_count": null,
      "outputs": []
    },
    {
      "cell_type": "markdown",
      "metadata": {
        "id": "jSbmOt48Qrdb"
      },
      "source": [
        "Hence, we see that There is strong correlation between sales and Profit i.e 0.92"
      ]
    },
    {
      "cell_type": "code",
      "metadata": {
        "id": "_XBfKD69QmmP"
      },
      "source": [
        "data.corr()"
      ],
      "execution_count": null,
      "outputs": []
    },
    {
      "cell_type": "code",
      "metadata": {
        "id": "THX8C3FHQmqK"
      },
      "source": [
        "#Rel_plot with respect category\r\n",
        "sns.relplot(x='Sales',y='Profit',hue='Category',data=data)"
      ],
      "execution_count": null,
      "outputs": []
    },
    {
      "cell_type": "code",
      "metadata": {
        "id": "TJVOALx2Qmz1"
      },
      "source": [
        "# Regression Plot \r\n",
        "sns.regplot(data['Sales'],data['Profit'])"
      ],
      "execution_count": null,
      "outputs": []
    },
    {
      "cell_type": "markdown",
      "metadata": {
        "id": "8-95KuVEQ3n0"
      },
      "source": [
        "##We notice that\r\n",
        "There is positive trend between Profit and sales"
      ]
    },
    {
      "cell_type": "code",
      "metadata": {
        "id": "MLPv3K-yQm38"
      },
      "source": [
        "sns.boxplot(x='Category',y='Profit',data=data)"
      ],
      "execution_count": null,
      "outputs": []
    },
    {
      "cell_type": "markdown",
      "metadata": {
        "id": "aqzSv6MvQ_oJ"
      },
      "source": [
        "We will proceed similar as we proceed above when discount = 0"
      ]
    },
    {
      "cell_type": "code",
      "metadata": {
        "id": "VWJl-R6pRBaN"
      },
      "source": [
        "data1=df[df['Discount']!=0]\r\n",
        "sns.relplot(x='Sales',y='Profit',hue='Discount',data=data1)"
      ],
      "execution_count": null,
      "outputs": []
    },
    {
      "cell_type": "markdown",
      "metadata": {
        "id": "dSzvhmqkRGdY"
      },
      "source": [
        "In above graph we see that as percentages of Discount increses the sales is also goes increses but profit goes decreases\r\n",
        "###Now we check how it can be effects on different sectors of businesses"
      ]
    },
    {
      "cell_type": "code",
      "metadata": {
        "id": "_jl8mVyvRBeo"
      },
      "source": [
        "sns.relplot(x='Sales',y='Profit',hue='Category',data=data1)"
      ],
      "execution_count": null,
      "outputs": []
    },
    {
      "cell_type": "code",
      "metadata": {
        "id": "FUr3s5gWRBkg"
      },
      "source": [
        "#realtion analysis\r\n",
        "correlation=data1.corr()\r\n",
        "sns.heatmap(correlation,xticklabels=correlation.columns,yticklabels=correlation.columns,annot=True)"
      ],
      "execution_count": null,
      "outputs": []
    },
    {
      "cell_type": "code",
      "metadata": {
        "id": "g-APXfWCQm8b"
      },
      "source": [
        "data1.corr()"
      ],
      "execution_count": null,
      "outputs": []
    },
    {
      "cell_type": "markdown",
      "metadata": {
        "id": "iCSCMY25RT6t"
      },
      "source": [
        "###Here we saw that even though we increse the discount the profit is not increasing."
      ]
    },
    {
      "cell_type": "code",
      "metadata": {
        "id": "pssFFUrMPw9A"
      },
      "source": [
        "pivot=pd.pivot_table(data1,index='Sub-Category',values='Profit')\r\n",
        "pivot.plot(kind='bar')"
      ],
      "execution_count": null,
      "outputs": []
    },
    {
      "cell_type": "markdown",
      "metadata": {
        "id": "zHIiIDBfRb8x"
      },
      "source": [
        "##Here we see that copiers had highest Profit and Machines had highest loss"
      ]
    },
    {
      "cell_type": "code",
      "metadata": {
        "id": "iVsVZQwmOq-n"
      },
      "source": [
        "pivot=pd.pivot_table(data1,index='Sub-Category',values='Sales')\r\n",
        "pivot.plot(kind='bar')"
      ],
      "execution_count": null,
      "outputs": []
    },
    {
      "cell_type": "code",
      "metadata": {
        "id": "CD9icZzLRgGa"
      },
      "source": [
        "pivot=pd.pivot_table(data1,index='Sub-Category',values='Discount')\r\n",
        "pivot.plot(kind='bar')"
      ],
      "execution_count": null,
      "outputs": []
    },
    {
      "cell_type": "markdown",
      "metadata": {
        "id": "GNYwhWxXRlEm"
      },
      "source": [
        "From the above graph we can see that even we gave the maximum discounts in Binders at first position and Machines at the secound position in max discount still we have huge losses in these product"
      ]
    },
    {
      "cell_type": "markdown",
      "metadata": {
        "id": "PH56pTtgRmWN"
      },
      "source": [
        "In above two graph we see that 'Machines' had second highest sale but due to large discount it is in loss and in second graph we see that sales in 'Fasteners','labels'and 'Art' category are so weak.so we have to concentrate on these sub-category businesses</p></font></b>"
      ]
    },
    {
      "cell_type": "markdown",
      "metadata": {
        "id": "mySSBHemRsu_"
      },
      "source": [
        "#So from the Analysis we can say that Discounts are triggering losses"
      ]
    },
    {
      "cell_type": "code",
      "metadata": {
        "id": "wkvsvBp2RgIK"
      },
      "source": [
        "plt.figure(figsize = (12,4))\r\n",
        "sns.set(font_scale=1, palette= \"viridis\")\r\n",
        "sns.barplot(data = df , x = \"Region\",y = \"Profit\" ,hue = \"Segment\")\r\n",
        "plt.show()"
      ],
      "execution_count": null,
      "outputs": []
    },
    {
      "cell_type": "markdown",
      "metadata": {
        "id": "F5C1zBvIRzhE"
      },
      "source": [
        "#Overall each Segment is profitable.\r\n",
        "Profit distribution by Region"
      ]
    },
    {
      "cell_type": "code",
      "metadata": {
        "id": "JJkAxJHpRgMu"
      },
      "source": [
        "plt.figure(figsize = (12,4))\r\n",
        "sns.set(font_scale=1, palette= \"viridis\")\r\n",
        "sns.barplot(data = df , x = \"Region\",y = \"Profit\" ,hue = \"Category\")\r\n",
        "\r\n",
        "# Hue is one of the main properties (called color appearance parameters)\r\n",
        "# of a color, defined technically\r\n",
        "plt.show()"
      ],
      "execution_count": null,
      "outputs": []
    },
    {
      "cell_type": "markdown",
      "metadata": {
        "id": "zwGLZZrLR_yX"
      },
      "source": [
        "Here we see that \"Furniture\" Category is the only loss making sector that to only in Central Region\r\n",
        "</b>"
      ]
    },
    {
      "cell_type": "code",
      "metadata": {
        "id": "XyaL_aCnSBXX"
      },
      "source": [
        "# Grouping Data by Region and only slicing Data for Central Region from whole Data Set\r\n",
        "gb_Central = list(df.groupby(\"Region\"))[0][1]"
      ],
      "execution_count": null,
      "outputs": []
    },
    {
      "cell_type": "code",
      "metadata": {
        "id": "hfEORlmnSBby"
      },
      "source": [
        "# Investing Further in cenral Region\r\n",
        "plt.figure(figsize = (12,4))\r\n",
        "sns.set(font_scale=1.5, palette= \"viridis\")\r\n",
        "sns.barplot(data = gb_Central, x = \"Category\",y = \"Profit\" ,hue = \"Ship Mode\")\r\n",
        "plt.title(\"Investigation of central region: Profit making(by Ship Mode)\")\r\n",
        "plt.show()"
      ],
      "execution_count": null,
      "outputs": []
    },
    {
      "cell_type": "code",
      "metadata": {
        "id": "SbzW3jLVSBg5"
      },
      "source": [
        " #Slicing Furniture Data from whole data set\r\n",
        "gb_Category_Furniture =list(list(df.groupby(\"Region\"))[0][1].groupby(\"Category\"))[0][1]"
      ],
      "execution_count": null,
      "outputs": []
    },
    {
      "cell_type": "code",
      "metadata": {
        "id": "YgN-xD63SBl1"
      },
      "source": [
        "# Correlation matrix Heat Map to identify key factors influening profits\r\n",
        "plt.figure(figsize = (12,8))\r\n",
        "sns.set(font_scale=1.4)\r\n",
        "sns.heatmap(gb_Category_Furniture.corr() , annot = True, cmap =\"Reds\")\r\n",
        "plt.show()"
      ],
      "execution_count": null,
      "outputs": []
    },
    {
      "cell_type": "markdown",
      "metadata": {
        "id": "HV6cBesTSh-Y"
      },
      "source": [
        "There is unusually high positive correlation between Postal Code and Discount Also, Their is negative correlation between Discount and Sales eventhough dicounts are entered as positive values... i.e. they are not helping in improving sales of \"Furniture\" category of the company Investigating individual performance by states in the central region"
      ]
    },
    {
      "cell_type": "code",
      "metadata": {
        "id": "iWADRv7TR_O9"
      },
      "source": [
        "plt.figure(figsize = (12,8))\r\n",
        "sns.set(font_scale=1, palette= \"viridis\")\r\n",
        "sns.barplot(data = gb_Category_Furniture , x = \"State\",y = \"Profit\" ,hue = \"Sub-Category\")\r\n",
        "plt.title(\"Investigation of Central Region Furniture Category: Profit Analysis(by Sub Category)\", fontsize = 20)\r\n",
        "plt.show()"
      ],
      "execution_count": null,
      "outputs": []
    },
    {
      "cell_type": "code",
      "metadata": {
        "id": "15X42u6dRgOB"
      },
      "source": [
        "plt.figure(figsize = (12,8))\r\n",
        "sns.set(font_scale=1, palette= \"viridis\")\r\n",
        "sns.barplot(data = gb_Category_Furniture , x = \"State\",y = \"Profit\" ,hue = \"Segment\")\r\n",
        "plt.title(\"Investigation of Central Region Furniture Category: Profit Analysis(by Segment)\", fontsize = 20)\r\n",
        "plt.show()"
      ],
      "execution_count": null,
      "outputs": []
    },
    {
      "cell_type": "markdown",
      "metadata": {
        "id": "_3cPl5n2SuF-"
      },
      "source": [
        "So, what is it they are doing diffrently?"
      ]
    },
    {
      "cell_type": "code",
      "metadata": {
        "id": "myA4wUIESwOQ"
      },
      "source": [
        "plt.figure(figsize = (12,8))\r\n",
        "sns.set(font_scale=1, palette= \"viridis\")\r\n",
        "sns.barplot(data = gb_Category_Furniture , x = \"State\",y = \"Discount\" ,hue = \"Sub-Category\")\r\n",
        "plt.title(\"Discounts provided by each state\", fontsize = 20)\r\n",
        "plt.show()"
      ],
      "execution_count": null,
      "outputs": []
    },
    {
      "cell_type": "markdown",
      "metadata": {
        "id": "rpXqZmRpS6Hw"
      },
      "source": [
        "###Texas and Illinois are only states providing discounts in the whole central region this justifies high positive correlation between postal codes and discounts.\r\n",
        "Also, these discounts are very high!\r\n",
        "1. 60% on Furnishings\r\n",
        "2. 30% on Bookcases and Chairs\r\n",
        "3. 50% disount on Tables in Illinois and 30% in Texas\r\n",
        "4. Are these discounts driving sales up?.... NO!"
      ]
    },
    {
      "cell_type": "code",
      "metadata": {
        "id": "1uX5_f7bSwP0"
      },
      "source": [
        "plt.figure(figsize = (12,8))\r\n",
        "sns.set(font_scale=1.5)\r\n",
        "sns.lmplot(data = gb_Category_Furniture , x = \"Discount\", y =\"Sales\", aspect = 1, height = 8, col =\"Sub-Category\", col_wrap= 2)\r\n",
        "plt.show()"
      ],
      "execution_count": null,
      "outputs": []
    },
    {
      "cell_type": "markdown",
      "metadata": {
        "id": "OGzcNpeVTLfY"
      },
      "source": [
        "Actually Sales tend to do down when discounts go up in 3 out of 4 \"Subcategories\" and also in overall Furniture Category Sales in the Central Region."
      ]
    },
    {
      "cell_type": "code",
      "metadata": {
        "id": "7Fw8BTXySwVj"
      },
      "source": [
        "# box plot\r\n",
        "sns.boxplot(x='Category',y='Profit',data=df)"
      ],
      "execution_count": null,
      "outputs": []
    },
    {
      "cell_type": "markdown",
      "metadata": {
        "id": "xeP_eFcLTRh0"
      },
      "source": [
        "We see that variation in Technology sector is more as compared to other two sector"
      ]
    },
    {
      "cell_type": "code",
      "metadata": {
        "id": "c5LrJ930RgTU"
      },
      "source": [
        "pivot=pd.pivot_table(df,index='Category',values='Discount')\r\n",
        "pivot.plot(kind='bar')"
      ],
      "execution_count": null,
      "outputs": []
    },
    {
      "cell_type": "code",
      "metadata": {
        "id": "P13SSMErTbb4"
      },
      "source": [
        "pivot=pd.pivot_table(df,index='Category',values='Sales')\r\n",
        "pivot.plot(kind='bar')"
      ],
      "execution_count": null,
      "outputs": []
    },
    {
      "cell_type": "code",
      "metadata": {
        "id": "Z9aPgyXuTbgd"
      },
      "source": [
        "pivot=pd.pivot_table(df,index='Category',values='Profit')\r\n",
        "pivot.plot(kind='bar')"
      ],
      "execution_count": null,
      "outputs": []
    },
    {
      "cell_type": "markdown",
      "metadata": {
        "id": "_I1N3SIYTuSV"
      },
      "source": [
        "1) More Discount is given in Furniture category and less Discount is given in Technology category businesses\r\n",
        "\r\n",
        "2) Sales of Technology category businesses are more as compared to Furniture category\r\n",
        "\r\n",
        "3) Profit of Technology category businesses are more as compared to Furniture category\r\n",
        "\r\n",
        "Insights from Exploratory Data Analysis (Summary)\r\n",
        "\r\n",
        "\r\n",
        "\r\n",
        "\r\n",
        "1) What are total Sales and Profits of the company?\r\n",
        "\r\n",
        "\r\n",
        "\r\n",
        "Total Sales = 2,296,195.56 USD Total Profits = 286,241.42 USD\r\n",
        "\r\n",
        "2)Top 10 States by Sales and Profits\r\n",
        "\r\n",
        "Top 10 States by Sales: 'California', 'New York', 'Texas', 'Washington', 'Pennsylvania','Florida', 'Illinois', 'Ohio', 'Michigan', 'Virginia'\r\n",
        "Top 10 States by Profit: 'California', 'New York', 'Washington', 'Michigan', 'Virginia','Indiana', 'Georgia', 'Kentucky', 'Minnesota', 'Delaware'\r\n",
        "Californi and New York are far ahead of their competitor states in terms of Profits.\r\n",
        "Discounts are triggering losses.\r\n",
        "3) Distrubution of Profits across diffrent regions\r\n",
        "\r\n",
        "Overall each Segment is profitable.\r\n",
        "\r\n",
        "\r\n",
        "4) Profit distribution by Region \"Furniture\" Category is the only loss making sector that to only in Central Region\r\n",
        "\r\n",
        "5) Investigating losses in Furniture category in the Central region Losses are inccured in Furniture Cateory irrespective to ship mode There is unusually high positive correlation between Postal Code and Discount Also, Their is negative correlation between Discount and Sales eventhough dicounts are entered as positive values...i.e. they are not helping in improving sales of \"Furniture\" category of the company\r\n",
        "\r\n",
        "6) Investigating individual performance by states in the central region\r\n",
        "\r\n",
        "Texas and Illiois are only two states contributing to all the losses in Furniture category in the Central Region\r\n",
        "\r\n",
        "Losses in Tables Sub Category is significanlty high.\r\n",
        "\r\n",
        "7) So, what is it they are doing diffrently? Texas and Illinois are only states providing discounts in the whole central region this justifies high positive correlation between postal codes and discounts. Also, these discounts are crazy high!\r\n",
        "\r\n",
        "60% on Furnishings 30% on Bookcases and Chairs 50% disount on Tables in Illinois and 30% in Texas\r\n",
        "\r\n",
        "8) Are these discounts driving sales up?.... NO! Actually Sales tend to do down when discounts go up in 3 out of 4 \"Subcategories\" and also in overall Furniture Category Sales in the Central Region.\r\n",
        "\r\n",
        "</font>\r\n",
        "From All these analysis we finally conclude that\r\n",
        "\r\n",
        "1) If we give more Discount on products our sales goes increses but Profit get down.\r\n",
        "\r\n",
        "2) In Technology category business we get more Profit as compared to other two business.These is because of we given less Discount.\r\n",
        "\r\n",
        "3) Here we also focus on our Office Supplies category business because sales of these category is less as compared to other two.\r\n",
        "\r\n",
        "4) Also Sales in 'Fasteners','labels'and 'Art' category are so weak.so we have to concentrate on these sub-category businesses.\r\n",
        "\r\n",
        "5) We have to concentrate on the Sales of 'West Virginia' State and 'San Luis Obispo' and 'Woodland' City. 6) To rise the profits , we first need to sell consumer segment products more .\r\n",
        "\r\n",
        "7) For enhancing the profits , we need to sell more to the states which are liking our products like NEWYORK and CALIFORNIA .\r\n",
        "\r\n",
        "Hence To get good profit in any business you have to focus on increasing sales but not giving more discount\r\n",
        "\r\n",
        "\r\n"
      ]
    }
  ]
}